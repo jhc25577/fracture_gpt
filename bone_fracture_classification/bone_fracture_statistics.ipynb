{
 "cells": [
  {
   "cell_type": "code",
   "execution_count": 54,
   "id": "dd068345",
   "metadata": {},
   "outputs": [],
   "source": [
    "import pandas as pd\n",
    "import seaborn\n",
    "import numpy as np\n",
    "import matplotlib.pyplot as plt \n",
    "from sklearn import metrics\n",
    "from sklearn.metrics import classification_report\n",
    "from sklearn.metrics import precision_recall_fscore_support"
   ]
  },
  {
   "cell_type": "code",
   "execution_count": 40,
   "id": "f2a6170f",
   "metadata": {},
   "outputs": [],
   "source": [
    "info = pd.read_csv('../bone_fracture_data/FracAtlas/dataset.csv')"
   ]
  },
  {
   "cell_type": "code",
   "execution_count": 95,
   "id": "7cf887c9",
   "metadata": {},
   "outputs": [],
   "source": [
    "data_melanoma = pd.read_csv('../bone_fracture_results/bone_fracture_frac_3.csv')\n",
    "data_normal = pd.read_csv('../bone_fracture_results/bone_fracture_nofrac_3.csv')\n",
    "\n",
    "data_melanoma = data_melanoma.assign(truth = np.ones(len(data_melanoma['filename'])))\n",
    "data_normal = data_normal.assign(truth = np.zeros(len(data_normal['filename'])))\n",
    "\n",
    "data_list = [data_melanoma, data_normal]\n",
    "\n",
    "data = pd.concat(data_list, ignore_index=True)\n"
   ]
  },
  {
   "cell_type": "code",
   "execution_count": 96,
   "id": "71a88d66",
   "metadata": {},
   "outputs": [
    {
     "data": {
      "text/plain": [
       "0      1\n",
       "1      0\n",
       "2      1\n",
       "3      1\n",
       "4      1\n",
       "      ..\n",
       "995    1\n",
       "996    0\n",
       "997    1\n",
       "998    1\n",
       "999    1\n",
       "Name: result, Length: 1000, dtype: int64"
      ]
     },
     "execution_count": 96,
     "metadata": {},
     "output_type": "execute_result"
    }
   ],
   "source": [
    "\n",
    "data['result'].replace(['B.','A.'], [0,1], inplace=True)\n",
    "data['result'].replace(['B','A'], [0,1], inplace=True)\n",
    "data['result'].replace(['B)','A)'], [0,1], inplace=True)\n",
    "# data = data.drop(['filename'], axis=1)\n",
    "\n",
    "for x in data['result']:\n",
    "    if x != 0 and x != 1:\n",
    "        data['result'].replace([x], [None], inplace=True)\n",
    "data = data.dropna()\n",
    "\n",
    "# data = data['result'].astype(int)\n",
    "data.result\n",
    "# for x in data['truth']:\n",
    "#     if type(x) != int:\n",
    "#         print(x)\n",
    "\n"
   ]
  },
  {
   "cell_type": "code",
   "execution_count": 97,
   "id": "a70b99d1",
   "metadata": {},
   "outputs": [
    {
     "data": {
      "text/plain": [
       "373"
      ]
     },
     "execution_count": 97,
     "metadata": {},
     "output_type": "execute_result"
    }
   ],
   "source": [
    "(data.result == 0).sum()"
   ]
  },
  {
   "cell_type": "code",
   "execution_count": 98,
   "id": "e864d003",
   "metadata": {},
   "outputs": [
    {
     "data": {
      "text/plain": [
       "627"
      ]
     },
     "execution_count": 98,
     "metadata": {},
     "output_type": "execute_result"
    }
   ],
   "source": [
    "(data.result == 1).sum()"
   ]
  },
  {
   "cell_type": "code",
   "execution_count": 99,
   "id": "b29df5da",
   "metadata": {},
   "outputs": [
    {
     "data": {
      "image/png": "[encoded data removed]",
      "text/plain": [
       "<Figure size 640x480 with 2 Axes>"
      ]
     },
     "metadata": {},
     "output_type": "display_data"
    }
   ],
   "source": [
    "confusion_matrix = metrics.confusion_matrix(data['truth'], data['result'])\n",
    "cm_display = metrics.ConfusionMatrixDisplay(confusion_matrix = confusion_matrix, display_labels = [\"not fracture\", \"fracture\"])\n",
    "cm_display.plot(cmap='bone')\n",
    "plt.show()\n",
    "\n"
   ]
  },
  {
   "cell_type": "code",
   "execution_count": 100,
   "id": "634a47a9",
   "metadata": {},
   "outputs": [
    {
     "name": "stdout",
     "output_type": "stream",
     "text": [
      "Accuracy:  0.689\n",
      "F1:  0.7240461401952084\n",
      "Recall:  0.816\n",
      "Precision:  0.6507177033492823\n"
     ]
    }
   ],
   "source": [
    "F1 = metrics.f1_score(data['truth'],data['result'], average='binary')\n",
    "recall = metrics.recall_score(data['truth'],data['result'], average='binary')\n",
    "precision = metrics.precision_score(data['truth'],data['result'], average='binary')\n",
    "accuracy = metrics.accuracy_score(data['truth'],data['result'])\n",
    "\n",
    "print(\"Accuracy: \", accuracy)\n",
    "print(\"F1: \", F1)\n",
    "print(\"Recall: \", recall)\n",
    "print(\"Precision: \", precision)"
   ]
  },
  {
   "cell_type": "code",
   "execution_count": 103,
   "id": "c50b4071",
   "metadata": {},
   "outputs": [],
   "source": [
    "data.to_csv('../bone_fracture_results/prep_bone_frac_3.csv')"
   ]
  },
  {
   "cell_type": "code",
   "execution_count": 104,
   "id": "9c5936d7",
   "metadata": {},
   "outputs": [
    {
     "data": {
      "text/plain": [
       "1000"
      ]
     },
     "execution_count": 104,
     "metadata": {},
     "output_type": "execute_result"
    }
   ],
   "source": [
    "len(data)"
   ]
  },
  {
   "cell_type": "code",
   "execution_count": 101,
   "id": "ebe9af0d",
   "metadata": {},
   "outputs": [],
   "source": [
    "info_data = []\n",
    "\n",
    "for i in data.filename:\n",
    "    if (info.image_id == i).any() and (info[(info.image_id == i)].mixed != 1).any():\n",
    "        info_data.append(info[(info.image_id == i)])"
   ]
  },
  {
   "cell_type": "code",
   "execution_count": 102,
   "id": "be721975",
   "metadata": {},
   "outputs": [
    {
     "data": {
      "text/plain": [
       "897"
      ]
     },
     "execution_count": 102,
     "metadata": {},
     "output_type": "execute_result"
    }
   ],
   "source": [
    "len(info_data)"
   ]
  },
  {
   "cell_type": "code",
   "execution_count": 82,
   "id": "06641e5c",
   "metadata": {},
   "outputs": [],
   "source": [
    "info_bone = (pd.concat(info_data))"
   ]
  },
  {
   "cell_type": "code",
   "execution_count": 83,
   "id": "c4969c2f",
   "metadata": {},
   "outputs": [
    {
     "data": {
      "text/plain": [
       "897"
      ]
     },
     "execution_count": 83,
     "metadata": {},
     "output_type": "execute_result"
    }
   ],
   "source": [
    "len(info_bone.index)"
   ]
  },
  {
   "cell_type": "code",
   "execution_count": 84,
   "id": "d8d00787",
   "metadata": {},
   "outputs": [
    {
     "name": "stdout",
     "output_type": "stream",
     "text": [
      "Number of hand images:  372\n",
      "Number of leg images:  462\n",
      "Number of hip images:  44\n",
      "Number of shoulder images:  19\n",
      "Number of mixed images:  0\n"
     ]
    }
   ],
   "source": [
    "print('Number of hand images: ', (info_bone.hand == 1).sum())\n",
    "print('Number of leg images: ', (info_bone.leg == 1).sum())\n",
    "print('Number of hip images: ', (info_bone.hip == 1).sum())\n",
    "print('Number of shoulder images: ', (info_bone.shoulder == 1).sum())\n",
    "print('Number of mixed images: ', (info_bone.mixed == 1).sum())"
   ]
  },
  {
   "cell_type": "code",
   "execution_count": 85,
   "id": "dac1d097",
   "metadata": {},
   "outputs": [
    {
     "data": {
      "text/plain": [
       "897"
      ]
     },
     "execution_count": 85,
     "metadata": {},
     "output_type": "execute_result"
    }
   ],
   "source": [
    "372+462+44+19"
   ]
  },
  {
   "cell_type": "code",
   "execution_count": null,
   "id": "75b37ca3",
   "metadata": {},
   "outputs": [],
   "source": []
  }
 ],
 "metadata": {
  "kernelspec": {
   "display_name": "Python 3 (ipykernel)",
   "language": "python",
   "name": "python3"
  },
  "language_info": {
   "codemirror_mode": {
    "name": "ipython",
    "version": 3
   },
   "file_extension": ".py",
   "mimetype": "text/x-python",
   "name": "python",
   "nbconvert_exporter": "python",
   "pygments_lexer": "ipython3",
   "version": "3.9.7"
  }
 },
 "nbformat": 4,
 "nbformat_minor": 5
}
